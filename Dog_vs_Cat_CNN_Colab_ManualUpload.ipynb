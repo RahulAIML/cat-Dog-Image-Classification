{
 "cells": [
  {
   "cell_type": "markdown",
   "metadata": {},
   "source": [
    "#  Dog vs Cat Image Classification with CNN (Manual Upload Version)\n",
    "\n",
    "**Tools:** TensorFlow, Keras, OpenCV, Matplotlib  \n",
    "**Dataset:** Dog and Cat Classification Dataset (Kaggle)\n"
   ]
  },
  {
   "cell_type": "code",
   "execution_count": null,
   "metadata": {},
   "outputs": [],
   "source": [
    "# Step 1: Unzip the dataset\n",
    "import zipfile\n",
    "import os\n",
    "\n",
    "zip_path = '/content/dog-and-cat-classification-dataset.zip'\n",
    "extract_path = '/content/dog_cat_data'\n",
    "\n",
    "with zipfile.ZipFile(zip_path, 'r') as zip_ref:\n",
    "    zip_ref.extractall(extract_path)\n",
    "\n",
    "print(\"Extracted folders:\", os.listdir(extract_path))"
   ]
  },
  {
   "cell_type": "code",
   "execution_count": null,
   "metadata": {},
   "outputs": [],
   "source": [
    "# Step 2: Import libraries\n",
    "import tensorflow as tf\n",
    "from tensorflow.keras.models import Sequential\n",
    "from tensorflow.keras.layers import Conv2D, MaxPooling2D, Flatten, Dense, Dropout, BatchNormalization\n",
    "from tensorflow.keras.preprocessing.image import ImageDataGenerator\n",
    "import matplotlib.pyplot as plt\n",
    "import numpy as np"
   ]
  },
  {
   "cell_type": "code",
   "execution_count": null,
   "metadata": {},
   "outputs": [],
   "source": [
    "# Step 3: Set paths and parameters\n",
    "train_dir = '/content/dog_cat_data/Training'\n",
    "test_dir = '/content/dog_cat_data/Testing'\n",
    "IMG_SIZE = 128\n",
    "BATCH_SIZE = 32"
   ]
  },
  {
   "cell_type": "code",
   "execution_count": null,
   "metadata": {},
   "outputs": [],
   "source": [
    "# Step 4: Create data generators with augmentation\n",
    "train_datagen = ImageDataGenerator(\n",
    "    rescale=1./255,\n",
    "    shear_range=0.2,\n",
    "    zoom_range=0.2,\n",
    "    horizontal_flip=True\n",
    ")\n",
    "\n",
    "test_datagen = ImageDataGenerator(rescale=1./255)\n",
    "\n",
    "train_generator = train_datagen.flow_from_directory(\n",
    "    train_dir,\n",
    "    target_size=(IMG_SIZE, IMG_SIZE),\n",
    "    batch_size=BATCH_SIZE,\n",
    "    class_mode='binary'\n",
    ")\n",
    "\n",
    "test_generator = test_datagen.flow_from_directory(\n",
    "    test_dir,\n",
    "    target_size=(IMG_SIZE, IMG_SIZE),\n",
    "    batch_size=BATCH_SIZE,\n",
    "    class_mode='binary'\n",
    ")"
   ]
  },
  {
   "cell_type": "code",
   "execution_count": null,
   "metadata": {},
   "outputs": [],
   "source": [
    "# Step 5: Build CNN model\n",
    "model = Sequential([\n",
    "    Conv2D(32, (3, 3), activation='relu', input_shape=(IMG_SIZE, IMG_SIZE, 3)),\n",
    "    MaxPooling2D(2, 2),\n",
    "    BatchNormalization(),\n",
    "    \n",
    "    Conv2D(64, (3, 3), activation='relu'),\n",
    "    MaxPooling2D(2, 2),\n",
    "    BatchNormalization(),\n",
    "\n",
    "    Flatten(),\n",
    "    Dense(128, activation='relu'),\n",
    "    Dropout(0.5),\n",
    "    Dense(1, activation='sigmoid')\n",
    "])\n",
    "\n",
    "model.compile(optimizer='adam', loss='binary_crossentropy', metrics=['accuracy'])\n",
    "model.summary()"
   ]
  },
  {
   "cell_type": "code",
   "execution_count": null,
   "metadata": {},
   "outputs": [],
   "source": [
    "# Step 6: Train model\n",
    "history = model.fit(\n",
    "    train_generator,\n",
    "    epochs=10,\n",
    "    validation_data=test_generator\n",
    ")"
   ]
  },
  {
   "cell_type": "code",
   "execution_count": null,
   "metadata": {},
   "outputs": [],
   "source": [
    "# Step 7: Visualize training history\n",
    "plt.figure(figsize=(14,5))\n",
    "plt.subplot(1,2,1)\n",
    "plt.plot(history.history['accuracy'], label='Train Accuracy')\n",
    "plt.plot(history.history['val_accuracy'], label='Validation Accuracy')\n",
    "plt.legend()\n",
    "plt.title('Accuracy')\n",
    "\n",
    "plt.subplot(1,2,2)\n",
    "plt.plot(history.history['loss'], label='Train Loss')\n",
    "plt.plot(history.history['val_loss'], label='Validation Loss')\n",
    "plt.legend()\n",
    "plt.title('Loss')\n",
    "plt.show()"
   ]
  }
 ],
 "metadata": {
  "colab": {
   "name": "Dog_vs_Cat_CNN_Colab_ManualUpload.ipynb",
   "provenance": []
  },
  "kernelspec": {
   "display_name": "Python 3",
   "language": "python",
   "name": "python3"
  },
  "language_info": {
   "name": "python"
  }
 },
 "nbformat": 4,
 "nbformat_minor": 0
}

{
  "step_8_evaluation": {
    "description": "Evaluate the trained model on the test dataset",
    "code": [
      "# Step 8: Evaluate on Test Set",
      "test_loss, test_accuracy = model.evaluate(test_generator)",
      "print(f\"Test Accuracy: {test_accuracy * 100:.2f}%\")",
      "print(f\"Test Loss: {test_loss:.4f}\")"
    ]
  },
  "step_9_prediction_visualization": {
    "description": "Predict on test data and visualize the results",
    "code": [
      "# Step 9: Visualize predictions",
      "import matplotlib.pyplot as plt",
      "import numpy as np",
      "",
      "# Get a batch of test images and labels",
      "test_images, test_labels = next(test_generator)",
      "",
      "# Predict using the model",
      "predictions = model.predict(test_images)",
      "predicted_classes = (predictions > 0.5).astype(int).reshape(-1)",
      "",
      "# Plot first 10 test images with predicted vs actual",
      "plt.figure(figsize=(15,10))",
      "for i in range(10):",
      "    plt.subplot(2, 5, i+1)",
      "    plt.imshow(test_images[i])",
      "    label = 'Dog' if predicted_classes[i] == 1 else 'Cat'",
      "    actual = 'Dog' if test_labels[i] == 1 else 'Cat'",
      "    plt.title(f\"Pred: {label}\\nTrue: {actual}\")",
      "    plt.axis('off')",
      "plt.tight_layout()",
      "plt.show()"
    ]
  }
}

